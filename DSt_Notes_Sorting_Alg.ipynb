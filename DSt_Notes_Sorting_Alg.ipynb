{
 "cells": [
  {
   "cell_type": "markdown",
   "id": "50725757-74de-4df4-b0c2-d6526af55bd1",
   "metadata": {},
   "source": [
    "# Sorting Algorithms\n",
    "-----\n",
    "## 1.- Quadratic-Time Sorts \n",
    " - Quadratic-time sorting algorithms have an average and worst-case time complexity of O(n²), making them inefficient for large datasets but useful for small or nearly sorted data due to their simplicity.\n",
    "\n",
    "### 1.1 Bubble Sort \n",
    "- Concept:\n",
    "    - Repeatedly steps through the list, compares adjacent elements, and swaps them if they are in the wrong order.\n",
    "    - The largest unsorted element \"bubbles up\" to its correct position in each pass.\n",
    "- Time Complexity:\n",
    "    - Worst/Average Case: O(n²)\n",
    "    - Best Case: O(n) (if the list is already sorted and optimized with a flag).\n",
    "- Built-in Alternative:\n",
    "    - Python’s sorted() (TimSort) is much faster, but Bubble Sort is purely educational."
   ]
  },
  {
   "cell_type": "raw",
   "id": "62713fb9-6712-4bc9-b880-67557cee0cad",
   "metadata": {},
   "source": [
    "- Graphic Idea:\n",
    "  \n",
    "![bubblusort.gif](attachment:c279a5d8-fe2f-4980-9e53-2e1dd6ab3196.gif)"
   ]
  },
  {
   "cell_type": "markdown",
   "id": "7865e592-cebd-4ff9-bd63-c95f0c7f21d2",
   "metadata": {},
   "source": [
    "#### Implementation in Python"
   ]
  },
  {
   "cell_type": "code",
   "execution_count": 1,
   "id": "13f4f0e2-1e63-4783-83e2-7eecfad20361",
   "metadata": {},
   "outputs": [],
   "source": [
    "def bubble_sort(arr):\n",
    "    n = len(arr)\n",
    "    for i in range(n):\n",
    "        swapped = False  # Optimization: check if any swaps occurred\n",
    "        for j in range(0, n-i-1):\n",
    "            if arr[j] > arr[j+1]:\n",
    "                arr[j], arr[j+1] = arr[j+1], arr[j]  # Swap\n",
    "                swapped = True\n",
    "        if not swapped:  # Early exit if no swaps\n",
    "            break\n",
    "    return arr"
   ]
  },
  {
   "cell_type": "code",
   "execution_count": 2,
   "id": "6fa1091f-fb87-4e47-a0df-985ab8a0fdde",
   "metadata": {},
   "outputs": [
    {
     "name": "stdout",
     "output_type": "stream",
     "text": [
      "Bubble Sort: [11, 12, 22, 25, 34, 64, 90]\n"
     ]
    }
   ],
   "source": [
    "# Example usage:\n",
    "arr = [64, 34, 25, 12, 22, 11, 90]\n",
    "print(\"Bubble Sort:\", bubble_sort(arr))"
   ]
  },
  {
   "cell_type": "markdown",
   "id": "d7f711e7-6e37-453c-af3f-1d7fd56fba7f",
   "metadata": {},
   "source": [
    "--------\n",
    "## 1.2. Insertion Sort\n",
    "- Concept:\n",
    "    - Builds the final sorted array one element at a time by inserting each new element into its correct position in the already-sorted part.\n",
    "    - Efficient for small or nearly sorted data.\n",
    "- Time Complexity:\n",
    "    - Worst/Average Case: O(n²)\n",
    "    - Best Case: O(n) (if the list is already sorted).\n",
    "- Built-in Alternative:\n",
    "    - Python’s bisect.insort() can insert elements in a sorted list efficiently, but the full sorting still takes O(n²) if done repeatedly."
   ]
  },
  {
   "cell_type": "raw",
   "id": "bf88015c-2875-4069-b979-e4aff79d0705",
   "metadata": {},
   "source": [
    "- Graphic Idea:\n",
    "    - ![insertion_sort_anim.gif](attachment:b9c267e7-0509-410b-9c69-e598ae53af40.gif)"
   ]
  },
  {
   "cell_type": "markdown",
   "id": "4301f85d-c7fb-4575-aa86-a6ad0fdf36c5",
   "metadata": {},
   "source": [
    "#### Implementation in Python"
   ]
  },
  {
   "cell_type": "code",
   "execution_count": 3,
   "id": "670bbdf3-985f-4c8c-b203-d48a386c8ff8",
   "metadata": {},
   "outputs": [],
   "source": [
    "def insertion_sort(arr):\n",
    "    for i in range(1, len(arr)):\n",
    "        key = arr[i]\n",
    "        j = i - 1\n",
    "        while j >= 0 and key < arr[j]:  # Shift elements to make space\n",
    "            arr[j + 1] = arr[j]\n",
    "            j -= 1\n",
    "        arr[j + 1] = key  # Insert key in correct position\n",
    "    return arr"
   ]
  },
  {
   "cell_type": "code",
   "execution_count": 4,
   "id": "4bc2205f-a8da-421a-926b-0a89773871d3",
   "metadata": {},
   "outputs": [
    {
     "name": "stdout",
     "output_type": "stream",
     "text": [
      "Insertion Sort: [11, 12, 22, 25, 34, 64, 90]\n"
     ]
    }
   ],
   "source": [
    "# Example usage:\n",
    "arr = [64, 34, 25, 12, 22, 11, 90]\n",
    "print(\"Insertion Sort:\", insertion_sort(arr))"
   ]
  },
  {
   "cell_type": "markdown",
   "id": "b847365e-fac5-43c9-902b-99c304936a5b",
   "metadata": {},
   "source": [
    "-----\n",
    "## 1.3. Selection Sort\n",
    "- Concept:\n",
    "  - Divides the list into a sorted and unsorted part.\n",
    "  - Repeatedly selects the smallest unsorted element and swaps it with the first unsorted element.\n",
    "- Time Complexity:\n",
    "    - Always O(n²) (even if the list is sorted).\n",
    "    - Minimizes swaps (only O(n) swaps, unlike Bubble Sort)."
   ]
  },
  {
   "cell_type": "raw",
   "id": "6ee21f7f-53eb-4df1-be98-96bb2de92a15",
   "metadata": {},
   "source": [
    "- Graphic Idea:\n",
    "    - ![Selection-Sort.gif](attachment:d4d6e0e8-b9b8-401b-bd71-541dadaf0ef8.gif)"
   ]
  },
  {
   "cell_type": "markdown",
   "id": "ba31df45-29d2-4f0b-9cf4-04927fc9dc77",
   "metadata": {},
   "source": [
    "#### Implementation in Python"
   ]
  },
  {
   "cell_type": "code",
   "execution_count": 5,
   "id": "2277c510-75cd-4047-aea0-44faaf5640dc",
   "metadata": {},
   "outputs": [
    {
     "name": "stdout",
     "output_type": "stream",
     "text": [
      "Selection Sort: [11, 12, 22, 25, 64]\n"
     ]
    }
   ],
   "source": [
    "def selection_sort(arr):\n",
    "    for i in range(len(arr)):\n",
    "        min_idx = i\n",
    "        for j in range(i+1, len(arr)):  # Find the minimum in unsorted part\n",
    "            if arr[j] < arr[min_idx]:\n",
    "                min_idx = j\n",
    "        arr[i], arr[min_idx] = arr[min_idx], arr[i]  # Swap\n",
    "    return arr\n",
    "\n",
    "# Example usage:\n",
    "arr = [64, 25, 12, 22, 11]\n",
    "print(\"Selection Sort:\", selection_sort(arr))"
   ]
  },
  {
   "cell_type": "markdown",
   "id": "db17445e-a41c-4b8f-882e-bc1b290399d3",
   "metadata": {},
   "source": [
    "### Final Summary\n",
    "- Complexity:\n",
    "| Algorithm         | Best Case | Average Case | Worst Case | Stable? | In-Place? | Notes                                  |\n",
    "|-------------------|-----------|--------------|------------|---------|-----------|----------------------------------------|\n",
    "| **Bubble Sort**   | O(n)      | O(n²)        | O(n²)      | ✅ Yes  | ✅ Yes    | Simple, but very slow.                |\n",
    "| **Insertion Sort**| O(n)      | O(n²)        | O(n²)      | ✅ Yes  | ✅ Yes    | Fast for small/nearly-sorted data.     |\n",
    "| **Selection Sort**| O(n²)     | O(n²)        | O(n²)      | ❌ No   | ✅ Yes    | Minimizes swaps (good for EEPROM).     |\n",
    "- Observations:\n",
    "    - Bubble Sort\n",
    "        - Only useful for education (worst practical performance).\n",
    "        - Optimization: Early exit if no swaps occur (swapped flag).\n",
    "    - Insertion Sort\n",
    "        - Best for small datasets (e.g., <50 elements) or nearly-sorted data (best case O(n)).\n",
    "        -Used internally in Timsort and QuickSort for small subarrays.\n",
    "    - Selection Sort\n",
    "        - Minimizes swaps (O(n) swaps vs O(n²) for others) → Useful for memory-constrained systems.\n",
    "        - Unstable (does not preserve order of equal elements).\n",
    "- When to use:\n",
    "    - Never use Bubble Sort in practice (except for teaching).\n",
    "    - Insertion Sort: Ideal for tiny arrays (e.g., <50 elements) or as a base case in divide-and-conquer sorts.\n",
    "    - Selection Sort: Only when write operations are expensive (e.g., sorting flash memory)."
   ]
  },
  {
   "cell_type": "markdown",
   "id": "41ee3efc-7918-4431-9308-d9e00fc2a6ed",
   "metadata": {},
   "source": [
    "---------\n",
    "--------\n",
    "## 2.- Comparison-Based Sorts\n",
    "\n",
    "-----\n",
    "### 2.1. Merge Sort\n",
    "- Concept:\n",
    "    - A divide-and-conquer algorithm that splits the array into two halves, recursively sorts each half, and merges them back in sorted order.\n",
    "    - Uses extra space for merging, making it not in-place but stable.\n",
    "- Time Complexity:\n",
    "    - Best/Average/Worst Case: O(n log n) (always).\n",
    "    - Space Complexity: O(n) (auxiliary space for merging).\n",
    "- Built-in Alternative:\n",
    "    - Python’s sorted() and list.sort() use Timsort (a hybrid of Merge Sort + Insertion Sort)."
   ]
  },
  {
   "cell_type": "raw",
   "id": "a0e1ec31-d2c7-491d-90d9-5120c22c8239",
   "metadata": {},
   "source": [
    "- Graphic Idea:\n",
    "![merge_sort.gif](attachment:ae7aebec-1930-4883-ae6a-4dcbe02ceb81.gif)"
   ]
  },
  {
   "cell_type": "markdown",
   "id": "d03fdd42-a741-4bcf-8cc2-84237ec96bb7",
   "metadata": {},
   "source": [
    "#### Python Implementation:"
   ]
  },
  {
   "cell_type": "code",
   "execution_count": 6,
   "id": "5169dd31-90b4-44de-a081-a0b7c8e6cce8",
   "metadata": {},
   "outputs": [],
   "source": [
    "def merge_sort(arr):\n",
    "    if len(arr) > 1:\n",
    "        mid = len(arr) // 2\n",
    "        left = arr[:mid]\n",
    "        right = arr[mid:]\n",
    "        \n",
    "        merge_sort(left)   # Recursively sort left half\n",
    "        merge_sort(right)   # Recursively sort right half\n",
    "        \n",
    "        # Merge step\n",
    "        i = j = k = 0\n",
    "        while i < len(left) and j < len(right):\n",
    "            if left[i] < right[j]:\n",
    "                arr[k] = left[i]\n",
    "                i += 1\n",
    "            else:\n",
    "                arr[k] = right[j]\n",
    "                j += 1\n",
    "            k += 1\n",
    "        \n",
    "        # Copy remaining elements (if any)\n",
    "        while i < len(left):\n",
    "            arr[k] = left[i]\n",
    "            i += 1\n",
    "            k += 1\n",
    "        while j < len(right):\n",
    "            arr[k] = right[j]\n",
    "            j += 1\n",
    "            k += 1\n",
    "    return arr"
   ]
  },
  {
   "cell_type": "code",
   "execution_count": 7,
   "id": "80478cdf-a5c6-459f-99eb-767504e42f37",
   "metadata": {},
   "outputs": [
    {
     "name": "stdout",
     "output_type": "stream",
     "text": [
      "Merge Sort: [38, 27, 43, 3, 9, 82, 10] ---------> [3, 9, 10, 27, 38, 43, 82]\n"
     ]
    }
   ],
   "source": [
    "# Example usage: Try a big one and compare with others, the difference is evident\n",
    "arr = [38, 27, 43, 3, 9, 82, 10]\n",
    "print(f\"Merge Sort: {arr} ---------> {merge_sort(arr)}\")"
   ]
  },
  {
   "cell_type": "markdown",
   "id": "6261ce5a-9167-4366-b5a4-90170e5724d4",
   "metadata": {},
   "source": [
    "------\n",
    "## 2.2. Quick Sort\n",
    "- Concept:\n",
    "    - Another divide-and-conquer algorithm that:\n",
    "        - Chooses a pivot (e.g., last element).\n",
    "        - Partitions the array into elements less than and greater than the pivot.\n",
    "        - Recursively sorts the partitions.\n",
    "    - In-place (no extra space needed) but not stable.\n",
    "- Time Complexity:\n",
    "    - Best/Average Case: O(n log n).\n",
    "    - Worst Case: O(n²) (if pivot selection is bad, e.g., already sorted array).\n",
    "- Space Complexity: O(log n) (stack space due to recursion)."
   ]
  },
  {
   "cell_type": "raw",
   "id": "d0cc051b-44e6-4092-8c28-1d349a2561ea",
   "metadata": {},
   "source": [
    "- Graphic Idea:\n",
    "    - ![Quicksort.gif](attachment:8ab0ca3d-b337-4dc1-b24b-1cf57b4c0a93.gif)"
   ]
  },
  {
   "cell_type": "markdown",
   "id": "670b4be3-866f-4e1c-ae81-9f5c5d18ed66",
   "metadata": {},
   "source": [
    "- Optimizations:\n",
    "    - Randomized Quick Sort: Pick a random pivot to avoid worst-case O(n²).\n",
    "    - Hoare’s Partition: More efficient than Lomuto’s.\n",
    "        - https://www.geeksforgeeks.org/hoare-s-partition-algorithm/\n",
    "#### Python Implementation (Lomuto Partition Scheme):"
   ]
  },
  {
   "cell_type": "code",
   "execution_count": 8,
   "id": "13cf9505-08e6-4f71-947a-56ac5e45c8d1",
   "metadata": {},
   "outputs": [],
   "source": [
    "def quick_sort(arr, low=0, high=None):\n",
    "    if high is None:\n",
    "        high = len(arr) - 1\n",
    "    if low < high:\n",
    "        pivot_idx = partition(arr, low, high)\n",
    "        quick_sort(arr, low, pivot_idx - 1)  # Sort left of pivot\n",
    "        quick_sort(arr, pivot_idx + 1, high) # Sort right of pivot\n",
    "    return arr\n",
    "\n",
    "def partition(arr, low, high):\n",
    "    pivot = arr[high]  # Choose last element as pivot\n",
    "    i = low - 1        # Pointer for elements < pivot\n",
    "    \n",
    "    for j in range(low, high):\n",
    "        if arr[j] <= pivot:\n",
    "            i += 1\n",
    "            arr[i], arr[j] = arr[j], arr[i]  # Swap\n",
    "    \n",
    "    arr[i + 1], arr[high] = arr[high], arr[i + 1]  # Place pivot correctly\n",
    "    return i + 1"
   ]
  },
  {
   "cell_type": "code",
   "execution_count": 9,
   "id": "b52c789b-f4ae-4b37-a6af-b3f5e36c16c5",
   "metadata": {},
   "outputs": [
    {
     "name": "stdout",
     "output_type": "stream",
     "text": [
      "Quick Sort: [10, 7, 8, 9, 1, 5] ---------> [1, 5, 7, 8, 9, 10]\n"
     ]
    }
   ],
   "source": [
    "# Example usage: Again, try a big one...\n",
    "arr = [10, 7, 8, 9, 1, 5]\n",
    "print(f\"Quick Sort: {arr} ---------> {quick_sort(arr)}\")"
   ]
  },
  {
   "cell_type": "markdown",
   "id": "ba7fbbcd-3bd7-49f3-8ee0-6a6e339ac6a3",
   "metadata": {},
   "source": [
    "-----\n",
    "## 2.3. Heap Sort\n",
    "- Concept:\n",
    "    - Uses a binary heap (priority queue) to sort elements.\n",
    "    - Steps:\n",
    "        - Build a max-heap from the array.\n",
    "        - Repeatedly extract the maximum element and rebuild the heap.\n",
    "- Time Complexity:\n",
    "    - Best/Average/Worst Case: O(n log n) (always).\n",
    "- Space Complexity: O(1) (in-place)\n",
    "    - In-place but not stable."
   ]
  },
  {
   "cell_type": "raw",
   "id": "9a694b62-c7ac-499c-95de-7c08dc3d1f6b",
   "metadata": {},
   "source": [
    "- Graphic Idea:\n",
    "    - ![heap.gif](attachment:3bbbc53c-2b8d-4ed3-bc62-757670453608.gif)"
   ]
  },
  {
   "cell_type": "markdown",
   "id": "bd48dda4-945e-42b9-a1af-9907e96478ad",
   "metadata": {},
   "source": [
    "- Built-in Alternative:\n",
    "    - Python’s heapq module provides heap operations, but sorted() is preferred for general use.\n",
    "#### Python Implementation:"
   ]
  },
  {
   "cell_type": "code",
   "execution_count": 10,
   "id": "4cb639d1-1608-48f8-9c2c-bf74ed6887a6",
   "metadata": {},
   "outputs": [],
   "source": [
    "def heap_sort(arr):\n",
    "    def heapify(arr, n, i):\n",
    "        largest = i\n",
    "        left = 2 * i + 1\n",
    "        right = 2 * i + 2\n",
    "        \n",
    "        if left < n and arr[left] > arr[largest]:\n",
    "            largest = left\n",
    "        if right < n and arr[right] > arr[largest]:\n",
    "            largest = right\n",
    "        \n",
    "        if largest != i:\n",
    "            arr[i], arr[largest] = arr[largest], arr[i]  # Swap\n",
    "            heapify(arr, n, largest)  # Recursively heapify affected subtree\n",
    "    \n",
    "    n = len(arr)\n",
    "    \n",
    "    # Build max-heap\n",
    "    for i in range(n // 2 - 1, -1, -1):\n",
    "        heapify(arr, n, i)\n",
    "    \n",
    "    # Extract elements one by one\n",
    "    for i in range(n - 1, 0, -1):\n",
    "        arr[0], arr[i] = arr[i], arr[0]  # Swap root (max) with last element\n",
    "        heapify(arr, i, 0)  # Heapify reduced heap\n",
    "    \n",
    "    return arr"
   ]
  },
  {
   "cell_type": "code",
   "execution_count": 11,
   "id": "eff632ea-b3be-4c7c-901f-418c2142e773",
   "metadata": {},
   "outputs": [
    {
     "name": "stdout",
     "output_type": "stream",
     "text": [
      "Heap Sort: [12, 11, 13, 5, 6, 7] ---------> [5, 6, 7, 11, 12, 13]\n"
     ]
    }
   ],
   "source": [
    "# Example usage:\n",
    "arr = [12, 11, 13, 5, 6, 7]\n",
    "print(f\"Heap Sort: {arr} ---------> {heap_sort(arr)}\")"
   ]
  },
  {
   "cell_type": "markdown",
   "id": "993b7c9f-c6c2-47be-ba8a-e6bd2bb9edee",
   "metadata": {},
   "source": [
    "### Final Summary\n",
    "-Complexity:\n",
    "| Algorithm     | Best Case | Average Case | Worst Case | Stable? | In-Place? | Space Complexity | Notes                                  |\n",
    "|---------------|-----------|--------------|------------|---------|-----------|------------------|----------------------------------------|\n",
    "| **Merge Sort** | O(n log n) | O(n log n)   | O(n log n) | ✅ Yes  | ❌ No     | O(n)             | Consistent, good for large data.       |\n",
    "| **Quick Sort** | O(n log n) | O(n log n)   | O(n²)      | ❌ No   | ✅ Yes    | O(log n)         | Fastest in practice (avg case).        |\n",
    "| **Heap Sort**  | O(n log n) | O(n log n)   | O(n log n) | ❌ No   | ✅ Yes    | O(1)             | In-place but slower constants.         |\n",
    "- Observations:\n",
    "    - Merge Sort\n",
    "        - Stable and predictable (always O(n log n)), but uses extra memory (O(n)).\n",
    "        - Preferred for linked lists and external sorting (disk-based data).\n",
    "    - Quick Sort\n",
    "        - Fastest in practice (avg case), but worst-case O(n²) if pivot selection is bad.\n",
    "        - In-place (O(log n) stack space) but not stable.\n",
    "    - Heap Sort\n",
    "        - Guaranteed O(n log n) in all cases and in-place (O(1)), but slower in practice due to poor cache locality.\n",
    "- When to use:\n",
    "    - Merge Sort:\n",
    "      - Need of stability (e.g., sorting objects by multiple keys).\n",
    "      - Data is too large for RAM (external sorting).\n",
    "    - Quick Sort\n",
    "        - Choose when:\n",
    "            - You need average-case speed (most practical cases).\n",
    "            - Memory is constrained (in-place variants).\n",
    "        - Avoid when:\n",
    "            - Worst-case O(n²) is unacceptable (e.g., adversarial inputs).\n",
    "    - Heap Sort\n",
    "        - Choose when:\n",
    "            - You need guaranteed O(n log n) (e.g., real-time systems).\n",
    "            - In-place sorting with O(1) space is critical.\n",
    "        - Avoid when:\n",
    "            - Cache locality matters (poor performance on modern CPUs).\n",
    "         \n",
    "#### Quick performance comparison:"
   ]
  },
  {
   "cell_type": "code",
   "execution_count": 12,
   "id": "be66e5be-ffb5-41ff-a6e2-223bb70ff5bf",
   "metadata": {},
   "outputs": [
    {
     "name": "stdout",
     "output_type": "stream",
     "text": [
      "n=1000000\n",
      "Merge Sort (built-in): 0.15714287757873535 sec\n",
      "Merge Sort (custom): 3.016411066055298 sec\n",
      "Quick Sort (custom): 1.9730985164642334 sec\n",
      "Heap Sort (custom): 5.087289333343506 sec\n"
     ]
    }
   ],
   "source": [
    "import time\n",
    "import random\n",
    "\n",
    "def time_sort(sort_func, arr):\n",
    "    start = time.time()\n",
    "    sort_func(arr.copy())\n",
    "    return time.time() - start\n",
    "\n",
    "n = 1000_000  # Try n=100_000 to see differences\n",
    "arr = [random.randint(0, 150000000) for _ in range(n)]\n",
    "\n",
    "print(f\"n={n}\")\n",
    "print(\"Merge Sort (built-in):\", time_sort(sorted, arr), \"sec\")# Python's TimSort\n",
    "print(\"Merge Sort (custom):\", time_sort(merge_sort, arr), \"sec\")  \n",
    "print(\"Quick Sort (custom):\", time_sort(quick_sort, arr), \"sec\")  \n",
    "print(\"Heap Sort (custom):\", time_sort(heap_sort, arr), \"sec\")"
   ]
  },
  {
   "cell_type": "markdown",
   "id": "8b9684f4-02b9-4973-ad74-e8c8faebeb4f",
   "metadata": {},
   "source": [
    "-----\n",
    "-----\n",
    "## 3. Linear Time Sorting\n",
    "Under certain conditions, it is possible to order in linear time here we review one example.\n",
    "\n",
    "-----\n",
    "### 3.1.- Radix-Sort:\n",
    "- Type:\n",
    "    -  Non-comparison-based (integer/string sorting)\n",
    "- Philosophy:\n",
    "    - Digit-by-digit or character-by-character sorting using a stable subroutine (often Counting Sort).\n",
    "- Key Insight:\n",
    "    - Exploits the fixed-length structure of keys (e.g., integers or fixed-width strings)."
   ]
  },
  {
   "cell_type": "raw",
   "id": "fa88ebbf-2382-490e-a32f-2cd24decf4f5",
   "metadata": {},
   "source": [
    "- Graphic Idea:\n",
    "    - ![Radix-Sort.gif](attachment:08103868-0f73-4041-bf6a-9e00e54c4dea.gif)"
   ]
  },
  {
   "cell_type": "markdown",
   "id": "62c3ccb7-1003-4c82-8f8f-b5bc3c5fe53a",
   "metadata": {},
   "source": [
    "- Algorithm properties\n",
    "  | Property         | Value                          | Notes                                  |\n",
    "|------------------|--------------------------------|----------------------------------------|\n",
    "| **Time Complexity** | O(nk)                        | `n` = number of elements, `k` = key length (digits/characters) |\n",
    "| **Space Complexity** | O(n + b)                   | `b` = base (e.g., 10 for decimal)      |\n",
    "| **Stable?**       | ✅ Yes                        | Preserves order of equal keys.         |\n",
    "| **In-Place?**     | ❌ No                         | Requires auxiliary space.              |\n",
    "| **Works On**      | Integers, fixed-length strings | Negative numbers need special handling.|\n",
    "\n",
    "\n",
    "### Implementations in Python\n",
    "- LSD (Least Significant Digit) Radix Sort for Integers"
   ]
  },
  {
   "cell_type": "code",
   "execution_count": 13,
   "id": "a495ae50-8fd0-4f71-8499-32dcb2e7036a",
   "metadata": {},
   "outputs": [],
   "source": [
    "def counting_sort(arr, exp):\n",
    "    n = len(arr)\n",
    "    output = [0] * n\n",
    "    count = [0] * 10  # Base-10 digits\n",
    "\n",
    "    # Count occurrences per digit\n",
    "    for num in arr:\n",
    "        index = (num // exp) % 10\n",
    "        count[index] += 1\n",
    "\n",
    "    # Cumulative count\n",
    "    for i in range(1, 10):\n",
    "        count[i] += count[i - 1]\n",
    "\n",
    "    # Build output array\n",
    "    for i in range(n - 1, -1, -1):\n",
    "        index = (arr[i] // exp) % 10\n",
    "        output[count[index] - 1] = arr[i]\n",
    "        count[index] -= 1\n",
    "\n",
    "    # Copy back to original array\n",
    "    for i in range(n):\n",
    "        arr[i] = output[i]\n",
    "\n",
    "def radix_sort(arr):\n",
    "    max_num = max(arr)\n",
    "    exp = 1\n",
    "    while max_num // exp > 0:\n",
    "        counting_sort(arr, exp)\n",
    "        exp *= 10\n",
    "    return arr"
   ]
  },
  {
   "cell_type": "code",
   "execution_count": 14,
   "id": "da9ea08c-c2b1-4c84-962d-9c796602e263",
   "metadata": {},
   "outputs": [
    {
     "name": "stdout",
     "output_type": "stream",
     "text": [
      "Radix Sort: [2, 24, 45, 66, 75, 90, 170, 802]\n"
     ]
    }
   ],
   "source": [
    "# Example usage:\n",
    "arr = [170, 45, 75, 90, 802, 24, 2, 66]\n",
    "print(\"Radix Sort:\", radix_sort(arr.copy()))"
   ]
  },
  {
   "cell_type": "markdown",
   "id": "a6191da8-72a8-41f5-a628-18f6e9ce58b9",
   "metadata": {},
   "source": [
    "- MSD (Meast Significant Digit) Radix Sort for Strings"
   ]
  },
  {
   "cell_type": "code",
   "execution_count": 15,
   "id": "84421a39-8a77-4b78-b473-85bf0ba9d1a1",
   "metadata": {},
   "outputs": [],
   "source": [
    "def msd_radix_sort(arr, idx=0):\n",
    "    if len(arr) <= 1:\n",
    "        return arr\n",
    "    \n",
    "    # Group strings by current character\n",
    "    buckets = {}\n",
    "    for s in arr:\n",
    "        char = s[idx] if idx < len(s) else ''\n",
    "        if char not in buckets:\n",
    "            buckets[char] = []\n",
    "        buckets[char].append(s)\n",
    "    \n",
    "    # Recursively sort each bucket\n",
    "    sorted_arr = []\n",
    "    for char in sorted(buckets.keys()):\n",
    "        sorted_arr.extend(msd_radix_sort(buckets[char], idx + 1))\n",
    "    return sorted_arr"
   ]
  },
  {
   "cell_type": "code",
   "execution_count": 16,
   "id": "c9929027-2237-4ac7-b48c-60cf9609d7e0",
   "metadata": {},
   "outputs": [
    {
     "name": "stdout",
     "output_type": "stream",
     "text": [
      "MSD Radix Sort: ['ape', 'apple', 'banana', 'bat', 'zoo']\n"
     ]
    }
   ],
   "source": [
    "# Example usage:\n",
    "strings = [\"apple\", \"banana\", \"ape\", \"zoo\", \"bat\"]\n",
    "print(\"MSD Radix Sort:\", msd_radix_sort(strings))"
   ]
  },
  {
   "cell_type": "markdown",
   "id": "a57ccb0a-243e-434f-9c30-cf3a0bcabe8a",
   "metadata": {},
   "source": [
    "- Observations:\n",
    "    - Hybrid Approach: Some libraries combine Radix Sort with QuickSort for mixed datasets (e.g., Java’s Arrays.sort for integers).\n",
    "- When to use:\n",
    "   - Use Radix Sort when:\n",
    "        - Keys have fixed width (e.g., 32-bit integers, fixed-length strings).\n",
    "        - k (key length) is small compared to n (e.g., k < log n).\n",
    "        - Stability is required (e.g., sorting by multiple columns).\n",
    "    - Avoid Radix Sort for:\n",
    "        - Variable-length data (e.g., arbitrary strings).\n",
    "        - Floating-point numbers (requires extra steps).\n",
    "    \n",
    "         \n",
    "#### Quick performance comparison:"
   ]
  },
  {
   "cell_type": "code",
   "execution_count": 17,
   "id": "af1eed50-4009-4528-afc4-dd7780050543",
   "metadata": {},
   "outputs": [
    {
     "name": "stdout",
     "output_type": "stream",
     "text": [
      "Radix Sort: 2.87 sec\n",
      "Timsort: 0.16 sec\n"
     ]
    }
   ],
   "source": [
    "# Performance test\n",
    "import time\n",
    "import random\n",
    "\n",
    "arr = [random.randint(0, 1000000) for _ in range(1_000_000)]\n",
    "\n",
    "start = time.time()\n",
    "radix_sort(arr.copy())  # Use for large fixed-width integers\n",
    "print(f\"Radix Sort: {time.time() - start:.2f} sec\")\n",
    "\n",
    "start = time.time()\n",
    "sorted(arr)  # Python's TimSort (Quick + Merge Sort hybrid)\n",
    "print(f\"Timsort: {time.time() - start:.2f} sec\")"
   ]
  },
  {
   "cell_type": "markdown",
   "id": "63c46b29-f83d-4b02-9650-ccec06d18e88",
   "metadata": {},
   "source": [
    "### Comparison Table\n",
    "| Algorithm      | Time Complexity | Space Complexity | Stable? | In-Place? | Best For                          | Worst For                     |\n",
    "|----------------|------------------|-------------------|---------|-----------|-----------------------------------|-------------------------------|\n",
    "| **Radix Sort** | O(nk)            | O(n + b)          | ✅ Yes  | ❌ No     | Fixed-width keys (ints/strings)   | Variable-length data          |\n",
    "| **Quick Sort** | O(n log n) avg   | O(log n)          | ❌ No   | ✅ Yes    | General-purpose sorting           | Adversarial inputs (O(n²))    |\n",
    "| **Merge Sort** | O(n log n)       | O(n)              | ✅ Yes  | ❌ No     | Large/stable sorts                | Memory-constrained systems    |\n",
    "| **Heap Sort**  | O(n log n)       | O(1)              | ❌ No   | ✅ Yes    | In-place with guarantees          | Cache-sensitive workloads     |\n",
    "| **Timsort**    | O(n log n)       | O(n)              | ✅ Yes  | ❌ No     | Real-world mixed data (Python)    | Extremely small datasets      |"
   ]
  },
  {
   "cell_type": "markdown",
   "id": "3f3f4cc2-7fb4-41d7-bd73-e3c711fa5528",
   "metadata": {},
   "source": [
    "----\n",
    "----\n",
    "## 4. Hybrid Sorting Algorithms\n",
    "### 4.1. Timsort\n",
    "- Philosophy:\n",
    "    - Combines Merge Sort + Insertion Sort + optimizations for real-world data.\n",
    "- Used in:\n",
    "    - Python (sorted()), Java, Android, Swift.\n",
    " \n",
    "#### Python's built-in sorted() uses Timsort:"
   ]
  },
  {
   "cell_type": "code",
   "execution_count": 18,
   "id": "d44b30f4-f85e-45e5-be04-01f2b758a2ee",
   "metadata": {},
   "outputs": [
    {
     "name": "stdout",
     "output_type": "stream",
     "text": [
      "Timsort: [1, 2, 3, 4, 5]\n"
     ]
    }
   ],
   "source": [
    "arr = [5, 2, 3, 1, 4]\n",
    "sorted_arr = sorted(arr)  # Hybrid of Merge Sort + Insertion Sort\n",
    "print(\"Timsort:\", sorted_arr)"
   ]
  },
  {
   "cell_type": "markdown",
   "id": "d607aab7-cc94-42ad-8934-5f5ca026f49b",
   "metadata": {},
   "source": [
    "### 4.2. Introsort\n",
    "- Philosophy:\n",
    "    - Combines Quick Sort + Heap Sort + Insertion Sort to avoid worst-case scenarios.\n",
    "- Used in:\n",
    "    - C++ STL (std::sort), Rust.\n",
    "#### Implementation in Python"
   ]
  },
  {
   "cell_type": "code",
   "execution_count": 19,
   "id": "7162938c-114e-43de-8163-ca9a0a71c972",
   "metadata": {},
   "outputs": [],
   "source": [
    "import math\n",
    "\n",
    "def introsort(arr, depth_limit=None):\n",
    "    if depth_limit is None:\n",
    "        depth_limit = 2 * math.floor(math.log2(len(arr)))\n",
    "    _introsort(arr, 0, len(arr), depth_limit)\n",
    "\n",
    "def _introsort(arr, start, end, depth_limit):\n",
    "    if end - start <= 16:\n",
    "        insertion_sort(arr, start, end)  # Switch to Insertion Sort for small arrays\n",
    "    elif depth_limit == 0:\n",
    "        heapsort(arr, start, end)  # Fallback to Heap Sort\n",
    "    else:\n",
    "        pivot = partition(arr, start, end)  # Quick Sort partition\n",
    "        _introsort(arr, start, pivot, depth_limit - 1)\n",
    "        _introsort(arr, pivot + 1, end, depth_limit - 1)\n",
    "\n",
    "def partition(arr, start, end):\n",
    "    pivot = arr[end - 1]\n",
    "    i = start - 1\n",
    "    for j in range(start, end - 1):\n",
    "        if arr[j] <= pivot:\n",
    "            i += 1\n",
    "            arr[i], arr[j] = arr[j], arr[i]\n",
    "    arr[i + 1], arr[end - 1] = arr[end - 1], arr[i + 1]\n",
    "    return i + 1\n",
    "\n",
    "def insertion_sort(arr, start, end):\n",
    "    for i in range(start + 1, end):\n",
    "        key = arr[i]\n",
    "        j = i - 1\n",
    "        while j >= start and arr[j] > key:\n",
    "            arr[j + 1] = arr[j]\n",
    "            j -= 1\n",
    "        arr[j + 1] = key\n",
    "\n",
    "def heapsort(arr, start, end):\n",
    "    def heapify(arr, n, i):\n",
    "        largest = i\n",
    "        left = 2 * i + 1\n",
    "        right = 2 * i + 2\n",
    "        if left < n and arr[left] > arr[largest]:\n",
    "            largest = left\n",
    "        if right < n and arr[right] > arr[largest]:\n",
    "            largest = right\n",
    "        if largest != i:\n",
    "            arr[i], arr[largest] = arr[largest], arr[i]\n",
    "            heapify(arr, n, largest)\n",
    "\n",
    "    n = end - start\n",
    "    for i in range(n // 2 - 1, -1, -1):\n",
    "        heapify(arr[start:end], n, i)\n",
    "    for i in range(n - 1, 0, -1):\n",
    "        arr[start], arr[start + i] = arr[start + i], arr[start]\n",
    "        heapify(arr[start:start + i], i, 0)"
   ]
  },
  {
   "cell_type": "code",
   "execution_count": 20,
   "id": "9152c721-91c6-46f4-8ef4-ae62ccd1e0a5",
   "metadata": {},
   "outputs": [
    {
     "name": "stdout",
     "output_type": "stream",
     "text": [
      "Introsort: [1, 2, 3, 4, 5]\n"
     ]
    }
   ],
   "source": [
    "# Example usage\n",
    "arr = [5, 2, 3, 1, 4]\n",
    "introsort(arr)\n",
    "print(\"Introsort:\", arr)"
   ]
  },
  {
   "cell_type": "markdown",
   "id": "be4282ee-2240-4cb4-bf76-1a02690b2cc4",
   "metadata": {},
   "source": [
    "### Performance Comparison"
   ]
  },
  {
   "cell_type": "code",
   "execution_count": 21,
   "id": "a243a22e-ea1e-4656-bb9a-06dfc8e8c3d1",
   "metadata": {},
   "outputs": [
    {
     "data": {
      "text/markdown": [
       "### Benchmark (n=1,000,000)"
      ],
      "text/plain": [
       "<IPython.core.display.Markdown object>"
      ]
     },
     "metadata": {},
     "output_type": "display_data"
    },
    {
     "data": {
      "text/markdown": [
       "- Timsort (Random Data): 0.1551 sec"
      ],
      "text/plain": [
       "<IPython.core.display.Markdown object>"
      ]
     },
     "metadata": {},
     "output_type": "display_data"
    },
    {
     "data": {
      "text/markdown": [
       "- Timsort (Partially Sorted): 0.1001 sec"
      ],
      "text/plain": [
       "<IPython.core.display.Markdown object>"
      ]
     },
     "metadata": {},
     "output_type": "display_data"
    },
    {
     "data": {
      "text/markdown": [
       "- Introsort (Random Data): 2.0309 sec"
      ],
      "text/plain": [
       "<IPython.core.display.Markdown object>"
      ]
     },
     "metadata": {},
     "output_type": "display_data"
    },
    {
     "data": {
      "text/markdown": [
       "- Introsort (Partially Sorted): 2.3629 sec"
      ],
      "text/plain": [
       "<IPython.core.display.Markdown object>"
      ]
     },
     "metadata": {},
     "output_type": "display_data"
    }
   ],
   "source": [
    "import time\n",
    "import random\n",
    "import numpy as np\n",
    "from IPython.display import display, Markdown\n",
    "\n",
    "# Generate test data\n",
    "n = 1_000_000\n",
    "arr = [random.randint(0, n) for _ in range(n)]\n",
    "partially_sorted = sorted(arr[:n//2]) + arr[n//2:]  # Simulate real-world data\n",
    "\n",
    "def benchmark(sort_func, data, name):\n",
    "    data_copy = data.copy()\n",
    "    start = time.time()\n",
    "    sort_func(data_copy)\n",
    "    return f\"{name}: {time.time() - start:.4f} sec\"\n",
    "\n",
    "# Compare Timsort (built-in) vs. Introsort (custom)\n",
    "display(Markdown(\"### Benchmark (n=1,000,000)\"))\n",
    "results = [\n",
    "    benchmark(sorted, arr, \"Timsort (Random Data)\"),\n",
    "    benchmark(sorted, partially_sorted, \"Timsort (Partially Sorted)\"),\n",
    "    benchmark(introsort, arr, \"Introsort (Random Data)\"),\n",
    "    benchmark(introsort, partially_sorted, \"Introsort (Partially Sorted)\")\n",
    "]\n",
    "for result in results:\n",
    "    display(Markdown(f\"- {result}\"))"
   ]
  },
  {
   "cell_type": "markdown",
   "id": "bc8c6edc-77b3-42f7-9735-b32d7963116b",
   "metadata": {},
   "source": [
    "### Scaling Comparison:"
   ]
  },
  {
   "cell_type": "code",
   "execution_count": 22,
   "id": "1bc354ed-b933-4bc7-bcce-4245ce172be2",
   "metadata": {},
   "outputs": [
    {
     "data": {
      "image/png": "[encoded data removed]",
      "text/plain": [
       "<Figure size 640x480 with 1 Axes>"
      ]
     },
     "metadata": {},
     "output_type": "display_data"
    }
   ],
   "source": [
    "import matplotlib.pyplot as plt\n",
    "\n",
    "sizes = [10_000, 100_000, 1_000_000]\n",
    "timsort_times = []\n",
    "introsort_times = []\n",
    "\n",
    "for n in sizes:\n",
    "    arr = [random.randint(0, n) for _ in range(n)]\n",
    "    start = time.time()\n",
    "    sorted(arr.copy())\n",
    "    timsort_times.append(time.time() - start)\n",
    "    start = time.time()\n",
    "    introsort(arr.copy())\n",
    "    introsort_times.append(time.time() - start)\n",
    "\n",
    "plt.plot(sizes, timsort_times, label=\"Timsort\")\n",
    "plt.plot(sizes, introsort_times, label=\"Introsort\")\n",
    "plt.xlabel(\"Input Size (n)\"); plt.ylabel(\"Time (sec)\"); plt.legend()\n",
    "plt.title(\"Hybrid Sorts Scaling\")\n",
    "plt.show()"
   ]
  },
  {
   "cell_type": "markdown",
   "id": "23d7eaa8-9bee-41e6-8133-114f284421cd",
   "metadata": {},
   "source": [
    "Comparison of Timsort and IntroSort\n",
    "| Algorithm  | Time Complexity       | Space Complexity | Stable? | In-Place? | Key Hybrid Trick                     | Best For                          |\n",
    "|------------|-----------------------|------------------|---------|-----------|--------------------------------------|-----------------------------------|\n",
    "| **Timsort**| O(n log n) worst-case | O(n)             | ✅ Yes  | ❌ No     | Merge Sort + Insertion Sort + Gallop | Real-world data (partially sorted)|\n",
    "| **Introsort**| O(n log n) worst   | O(log n)         | ❌ No   | ✅ Yes    | QuickSort + HeapSort fallback        | General-purpose, adversarial-safe|"
   ]
  },
  {
   "cell_type": "markdown",
   "id": "6c8080c6-e1a8-458b-a273-0a4a7a5afb55",
   "metadata": {},
   "source": [
    "### Final Summary:\n",
    "- Key Takeaways\n",
    "    - Timsort:\n",
    "        - Optimized for real-world data (runs in O(n) on partially sorted arrays).\n",
    "        - Stable but requires O(n) space.\n",
    "        - Python’s secret weapon for sorted() and list.sort().\n",
    "    - Introsort:\n",
    "        - Guaranteed O(n log n) even for adversarial inputs.\n",
    "        - In-place (O(log n) space) but not stable.\n",
    "        - Used in C++ STL for predictable performance.\n",
    "- When to Choose Which?\n",
    "    - Use Timsort if:\n",
    "        - Your data is partially sorted (e.g., log files, time-series).\n",
    "        - Stability matters (e.g., sorting database records by multiple columns).\n",
    "    - Use Introsort if:\n",
    "        - You need guaranteed O(n log n) (e.g., security-critical applications).\n",
    "        - Memory is limited (in-place sorting required)."
   ]
  },
  {
   "cell_type": "code",
   "execution_count": null,
   "id": "b860fbaf-934c-4cec-ae7c-ebcfe36e83f2",
   "metadata": {},
   "outputs": [],
   "source": []
  }
 ],
 "metadata": {
  "kernelspec": {
   "display_name": "Python 3 (ipykernel)",
   "language": "python",
   "name": "python3"
  },
  "language_info": {
   "codemirror_mode": {
    "name": "ipython",
    "version": 3
   },
   "file_extension": ".py",
   "mimetype": "text/x-python",
   "name": "python",
   "nbconvert_exporter": "python",
   "pygments_lexer": "ipython3",
   "version": "3.12.7"
  }
 },
 "nbformat": 4,
 "nbformat_minor": 5
}
