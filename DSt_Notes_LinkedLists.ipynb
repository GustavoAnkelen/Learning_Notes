{
 "cells": [
  {
   "cell_type": "markdown",
   "id": "94825013-eec9-42e0-a21e-219a5f8e76e8",
   "metadata": {},
   "source": [
    "# Linked Lists\n",
    "- Estructura de datos lineal, los elementos (nodos) son almacenados en espacios no necesariamente adyacentes de memoria.\n",
    "     - Simple Linked List: Cada nodo indica la posición del siguiente\n",
    "     - Double Linked List: Cada nodo indica también su predecesor.\n",
    "     \n",
    "       \n",
    "Ejemplos de implementacion en Python3:"
   ]
  },
  {
   "cell_type": "code",
   "execution_count": 1,
   "id": "639b4742-a349-42da-a734-2526293650a8",
   "metadata": {},
   "outputs": [],
   "source": [
    "# Definimos un nodo que servirá para los tres tipos de Linked-List\n",
    "\n",
    "class Node:\n",
    "    def __init__(self, data):\n",
    "        self.data = data\n",
    "        self.next = None\n",
    "        #self.prev = None \n",
    "\n",
    "class LinkedList:\n",
    "    def __init__(self):\n",
    "        self.head = None #Inicialization of list\n",
    "\n",
    "    # Append at end of list\n",
    "    def append(self,data):\n",
    "        new_node = Node(data)\n",
    "        if not self.head: #If list is empty\n",
    "            self.head = new_node\n",
    "            return\n",
    "        last_node = self.head\n",
    "        while last_node.next: #Traverse to the last node\n",
    "            last_node = last_node.next\n",
    "        last_node.next= new_node #Update the last node as new_node\n",
    "\n",
    "    # Insert at beggining of list\n",
    "    def prepend(self,data):\n",
    "        new_node = Node(data) #Create Node object from data\n",
    "        new_node.next = self.head #Set pointer from new_node to head of the list\n",
    "        self.head = new_node # Update head to new_node\n",
    "\n",
    "    # Print the list\n",
    "    def print_list(self):\n",
    "        current_node = self.head\n",
    "        while current_node:\n",
    "            print(current_node.data, end=\" -> \")\n",
    "            current_node = current_node.next\n",
    "        print(\"None\")\n",
    "        "
   ]
  },
  {
   "cell_type": "code",
   "execution_count": 2,
   "id": "71bff5dd-8a1d-4bab-bd4d-0146dd9510d2",
   "metadata": {},
   "outputs": [
    {
     "name": "stdout",
     "output_type": "stream",
     "text": [
      "5 -> 10 -> 20 -> None\n"
     ]
    }
   ],
   "source": [
    "# Example Usage\n",
    "ll = LinkedList()\n",
    "ll.append(10)   # 10 -> None\n",
    "ll.append(20)   # 10 -> 20 -> None\n",
    "ll.prepend(5)   # 5 -> 10 -> 20 -> None\n",
    "ll.print_list() # Output: 5 -> 10 -> 20 -> None"
   ]
  },
  {
   "cell_type": "markdown",
   "id": "660b896b-d548-4578-bdea-89673c41333c",
   "metadata": {},
   "source": [
    "## Circular Linked Lists:\n",
    "- Circular Linked List: El nodo final indica el inicial.\n",
    "  "
   ]
  },
  {
   "cell_type": "code",
   "execution_count": 3,
   "id": "6fe6d8a1-e379-4061-bea5-ba069e785c98",
   "metadata": {},
   "outputs": [],
   "source": [
    "# Implementacion de LinkedList circular\n",
    "class Node:\n",
    "    def __init__(self, data):\n",
    "        self.data = data\n",
    "        self.next = None\n",
    "\n",
    "class CircularLinkedList:\n",
    "    def __init__(self):\n",
    "        self.head = None\n",
    "\n",
    "    def append(self, data):\n",
    "        new_node = Node(data)\n",
    "        if not self.head:\n",
    "            self.head = new_node\n",
    "            new_node.next = self.head  # Points to itself\n",
    "            return\n",
    "        current = self.head\n",
    "        while current.next != self.head:  # Traverse until last node\n",
    "            current = current.next\n",
    "        current.next = new_node\n",
    "        new_node.next = self.head  # Close the loop\n",
    "\n",
    "    def print_list(self):\n",
    "        if not self.head:\n",
    "            print(\"Empty list\")\n",
    "            return\n",
    "        current = self.head\n",
    "        while True:\n",
    "            print(current.data, end=\" -> \")\n",
    "            current = current.next\n",
    "            if current == self.head:\n",
    "                break\n",
    "        print(\"HEAD\")  # Indicates the list loops back"
   ]
  },
  {
   "cell_type": "code",
   "execution_count": 4,
   "id": "722efc0f-ecae-4224-9a61-094cf5e0c607",
   "metadata": {},
   "outputs": [
    {
     "name": "stdout",
     "output_type": "stream",
     "text": [
      "1 -> 2 -> 3 -> HEAD\n"
     ]
    }
   ],
   "source": [
    "# Example Usage\n",
    "cll = CircularLinkedList()\n",
    "cll.append(1)\n",
    "cll.append(2)\n",
    "cll.append(3)\n",
    "cll.print_list()  # Output: 1 -> 2 -> 3 -> HEAD"
   ]
  },
  {
   "cell_type": "markdown",
   "id": "92c25699-8550-49d2-a48f-f17655c890ba",
   "metadata": {},
   "source": [
    "## Problemas:\n",
    "##### 1.- Como invertir una Linked List?\n",
    "##### 2.- Como detectar si una Linked List tiene ciclos?\n",
    "##### 3.- Como hacer merge de dos Linked Lists?\n",
    "##### 4.- Como encontrar el nodo central?\n",
    "##### 5.- Como remover el n-ésimo nodo desde el final?"
   ]
  },
  {
   "cell_type": "code",
   "execution_count": 5,
   "id": "2d6771aa-6b33-4f4a-b80a-96321872cb8b",
   "metadata": {},
   "outputs": [],
   "source": [
    "########################################################\n",
    "########## Problema 1: Inversion de Linked List ########\n",
    "########################################################\n",
    "\n",
    "class  New_LinkedList(LinkedList):    \n",
    "    # Aproach Iterativo:\n",
    "    def reverse_list_iter(self): # Iterative complexity ~ O(n)\n",
    "        prev = None\n",
    "        current = self.head \n",
    "        while current:\n",
    "            next_node = current.next  # Store next node\n",
    "            current.next = prev       # Reverse the Link\n",
    "            prev = current            # Move prev node forward\n",
    "            current = next_node       # Move to next node\n",
    "        self.head = prev          # Update head to the new first node (after the while cycle, this should correspond to the former last node)\n",
    "        return self\n",
    "    \n",
    "    \n",
    "    # Aproach Recursivo:\n",
    "    def reverse_list_rec(self, current, prev=None):  # Recursive complexity ~ O(log(n))\n",
    "        if not current:\n",
    "            self.head = prev\n",
    "            return\n",
    "        next_node = current.next\n",
    "        current.next = prev\n",
    "        self.reverse_list_rec(next_node, current)\n",
    "        return self\n",
    "    # Call with: ll.reverse_recursive(ll.head)"
   ]
  },
  {
   "cell_type": "code",
   "execution_count": 6,
   "id": "b86c1328-31f7-48e3-8c1e-92dc486c6859",
   "metadata": {},
   "outputs": [],
   "source": [
    "new_linked_list1 = New_LinkedList()\n",
    "new_linked_list2 = New_LinkedList()\n",
    "for i in range(1, 1000): #recursion limit of depth for python\n",
    "    new_linked_list1.append(i)\n",
    "    new_linked_list2.append(i)"
   ]
  },
  {
   "cell_type": "code",
   "execution_count": 7,
   "id": "c2234dae-2822-4985-ba77-54e54628e222",
   "metadata": {},
   "outputs": [
    {
     "name": "stdout",
     "output_type": "stream",
     "text": [
      "Execution time of iterative method: 0.0000000000 seconds\n",
      "Execution time of recursive method: 0.0010015965 seconds\n"
     ]
    }
   ],
   "source": [
    "import time\n",
    "\n",
    "# Time iterative reversal\n",
    "start_iter = time.time()\n",
    "rll1 = new_linked_list1.reverse_list_iter()  # Iterative method\n",
    "end_iter = time.time()\n",
    "\n",
    "print(f\"Execution time of iterative method: {end_iter - start_iter:.10f} seconds\")\n",
    "\n",
    "# Time recursive reversal\n",
    "start_rec = time.time()\n",
    "try:\n",
    "    rll2 = new_linked_list2.reverse_list_rec(new_linked_list2.head)  # Recursive method\n",
    "except RecursionError as e:\n",
    "    print(f\"Recursion failed: {e}\") \n",
    "end_rec = time.time()\n",
    "\n",
    "print(f\"Execution time of recursive method: {end_rec - start_rec:.10f} seconds\")"
   ]
  },
  {
   "cell_type": "code",
   "execution_count": 8,
   "id": "855c37bf-3700-461b-9ff1-85a0e8e98874",
   "metadata": {},
   "outputs": [],
   "source": [
    "########################################################\n",
    "########## Problema 2: Detección de Ciclos #############\n",
    "########################################################\n",
    "\n",
    "# Solucion: Algoritmo de la tortuga y la liebre\n",
    "\n",
    "def has_cycle(head):\n",
    "    slow = head\n",
    "    fast = head\n",
    "    while fast and fast.next: # Ciclo While: tiene Complejidad O(n)\n",
    "        slow = slow.next\n",
    "        fast = fast.next.next\n",
    "        if slow == fast:\n",
    "            return True\n",
    "    return False\n",
    "\n",
    "## Idea: Si no hay ciclos, el puntero rapido llega al final sin encontrarse con el puntero lento nuevamente. "
   ]
  },
  {
   "cell_type": "code",
   "execution_count": 9,
   "id": "5f1e7328-7970-4ae6-921d-dc96b492df0d",
   "metadata": {},
   "outputs": [],
   "source": [
    "########################################################\n",
    "####### Problema 3: Merge de dos Linked Lists ##########\n",
    "########################################################\n",
    "\n",
    "#Solución: Usamos un nodo dummy para hacer el merge de las listas\n",
    "\n",
    "def merge_two_lists(l1, l2):    \n",
    "    dummy = Node(0)  # Dummy node to simplify merging\n",
    "    tail = dummy\n",
    "    \n",
    "    while l1 and l2:      # Ciclo While: tiene Complejidad O(n+m) para n y m los tama\n",
    "        if l1.data <= l2.data:\n",
    "            tail.next = l1\n",
    "            l1 = l1.next\n",
    "        else:\n",
    "            tail.next = l2\n",
    "            l2 = l2.next\n",
    "        tail = tail.next\n",
    "    \n",
    "    # Attach remaining nodes\n",
    "    tail.next = l1 if l1 else l2\n",
    "    return dummy.next"
   ]
  },
  {
   "cell_type": "code",
   "execution_count": 10,
   "id": "09a223f2-cbd7-4480-8ac1-981157fe3631",
   "metadata": {},
   "outputs": [
    {
     "name": "stdout",
     "output_type": "stream",
     "text": [
      "5 -> 10 -> 20 -> 69 -> 26 -> 1 -> None\n"
     ]
    }
   ],
   "source": [
    "ll = LinkedList()\n",
    "ll.append(10)   # 10 -> None\n",
    "ll.append(20)   # 10 -> 20 -> None\n",
    "ll.prepend(5)   # 5 -> 10 -> 20 -> None\n",
    "ll.append(69) \n",
    "ll.append(26) \n",
    "ll.append(1) \n",
    "ll.print_list()"
   ]
  },
  {
   "cell_type": "code",
   "execution_count": 11,
   "id": "6b002b58-e67a-4f2a-ad04-d99606854418",
   "metadata": {},
   "outputs": [],
   "source": [
    "ll2 = LinkedList()\n",
    "ll2.append(55)   # 55 -> None\n",
    "ll2.append(15)   # 15 -> 55 -> None\n",
    "ll2.prepend(2)   # 2 -> 15 -> 55 -> None"
   ]
  },
  {
   "cell_type": "code",
   "execution_count": 12,
   "id": "4f1dd975-7470-4e93-bb52-4ca08c83cfee",
   "metadata": {},
   "outputs": [],
   "source": [
    "########################################################\n",
    "######## Problema 4: Encontrar Nodo Central ############\n",
    "########################################################\n",
    "\n",
    "\n",
    "#Solucion:\n",
    "def find_middle(head):\n",
    "    slow = head\n",
    "    fast = head\n",
    "    while fast and fast.next:\n",
    "        slow = slow.next\n",
    "        fast = fast.next.next\n",
    "    return slow"
   ]
  },
  {
   "cell_type": "code",
   "execution_count": 13,
   "id": "0b7792db-64ba-4938-97b4-1ba49abb5582",
   "metadata": {},
   "outputs": [
    {
     "name": "stdout",
     "output_type": "stream",
     "text": [
      "Value of node = 69\n",
      "Object: <__main__.Node object at 0x00000187E07D1520>\n"
     ]
    }
   ],
   "source": [
    "node = find_middle(ll.head)\n",
    "print(f'Value of node = {node.data}\\nObject: {node}')\n"
   ]
  },
  {
   "cell_type": "code",
   "execution_count": 14,
   "id": "88844d96-c646-4db0-9ec0-872d465d8e5d",
   "metadata": {},
   "outputs": [],
   "source": [
    "########################################################\n",
    "######## Problema 4: Eliminar nodo especifico ##########\n",
    "########################################################\n",
    "    \n",
    "########################################\n",
    "# Approach 1:    \n",
    "########################################\n",
    "\n",
    "def remove_nth_from_end(head, n):\n",
    "    dummy = Node(0)\n",
    "    dummy.next = head\n",
    "    length = 0\n",
    "    current = head\n",
    "    \n",
    "    # Calculate length\n",
    "    while current:\n",
    "        length += 1\n",
    "        current = current.next\n",
    "    \n",
    "    # Find node before the target\n",
    "    target_pos = length - n\n",
    "    current = dummy\n",
    "    for _ in range(target_pos):\n",
    "        current = current.next\n",
    "    \n",
    "    # Skip the target node\n",
    "    current.next = current.next.next\n",
    "    return dummy.next\n",
    "\n",
    "    \n",
    "########################################\n",
    "# Approach 2 (Optimizado):\n",
    "########################################\n",
    "def remove_nth_from_end_optimized(head, n):\n",
    "    dummy = Node(0)\n",
    "    dummy.next = head\n",
    "    first = dummy\n",
    "    second = dummy\n",
    "    \n",
    "    # Move first n+1 steps ahead\n",
    "    for _ in range(n + 1):\n",
    "        first = first.next\n",
    "    \n",
    "    # Move both until first reaches end\n",
    "    while first:\n",
    "        first = first.next\n",
    "        second = second.next\n",
    "    \n",
    "    # Remove target node\n",
    "    second.next = second.next.next\n",
    "    return dummy.next"
   ]
  },
  {
   "cell_type": "code",
   "execution_count": null,
   "id": "84e7709f-d0af-4c26-bd02-5911dace2137",
   "metadata": {},
   "outputs": [],
   "source": []
  },
  {
   "cell_type": "code",
   "execution_count": null,
   "id": "dcbf145e-d7e9-454d-ae7a-4f7d83078d3d",
   "metadata": {},
   "outputs": [],
   "source": []
  }
 ],
 "metadata": {
  "kernelspec": {
   "display_name": "Python 3 (ipykernel)",
   "language": "python",
   "name": "python3"
  },
  "language_info": {
   "codemirror_mode": {
    "name": "ipython",
    "version": 3
   },
   "file_extension": ".py",
   "mimetype": "text/x-python",
   "name": "python",
   "nbconvert_exporter": "python",
   "pygments_lexer": "ipython3",
   "version": "3.9.15"
  }
 },
 "nbformat": 4,
 "nbformat_minor": 5
}
