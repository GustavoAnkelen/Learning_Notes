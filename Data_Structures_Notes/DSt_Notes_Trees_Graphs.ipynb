{
 "cells": [
  {
   "cell_type": "markdown",
   "id": "38cf99ea-aa81-4504-9baa-068aefea7aeb",
   "metadata": {},
   "source": [
    "# Trees\n",
    "- Structure\n",
    "    - Hierarchical with a root node and child nodes.\n",
    "    - Each node has:\n",
    "      - Value (data).\n",
    "      - Children (references to child nodes).\n",
    "\n",
    "\n",
    "\n",
    "- Types\n",
    "    - Binary Tree:\tEach node has ≤ 2 children.\n",
    "      - (Used for: Binary search, expression trees).\n",
    "    - Binary Search Tree (BST):\tLeft < Root < Right.\n",
    "        - (Used for: Fast search (O(log n) avg).\n",
    "    - AVL/Red-Black Tree:\tSelf-balancing BST.\n",
    "        - (Used for: Databases, language runtimes).\n",
    "    - Heap:\tParent > (or <) children.\n",
    "        - (Used for: Priority queues, heapsort O(n)).\n"
   ]
  },
  {
   "cell_type": "code",
   "execution_count": 1,
   "id": "9784c3ad-25cc-430e-b2e0-974a42d9d5c6",
   "metadata": {},
   "outputs": [],
   "source": [
    "# Example of binary tree node implementation\n",
    "class TreeNode:\n",
    "    def __init__(self, value):\n",
    "        self.value = value\n",
    "        self.left = None\n",
    "        self.right = None"
   ]
  },
  {
   "cell_type": "code",
   "execution_count": 2,
   "id": "dacd7fed-8f91-40e1-a96b-a18e7e50d382",
   "metadata": {},
   "outputs": [],
   "source": [
    "# Example\n",
    "root = TreeNode(10)\n",
    "root.left = TreeNode(5)\n",
    "root.right = TreeNode(15)"
   ]
  },
  {
   "cell_type": "code",
   "execution_count": 3,
   "id": "6496d4f9-fbc5-4182-bc00-6df1318c1183",
   "metadata": {},
   "outputs": [],
   "source": [
    "root.left.left = TreeNode(root.left.value - root.right.value) # Create new node with value from operations with previous nodes"
   ]
  },
  {
   "cell_type": "code",
   "execution_count": 4,
   "id": "6c2ef094-f625-4ffe-a067-3592e3d5e538",
   "metadata": {},
   "outputs": [
    {
     "data": {
      "text/plain": [
       "-10"
      ]
     },
     "execution_count": 4,
     "metadata": {},
     "output_type": "execute_result"
    }
   ],
   "source": [
    "root.left.left.value"
   ]
  },
  {
   "cell_type": "markdown",
   "id": "00688237-4e6c-44df-a7d1-615c49c68b4a",
   "metadata": {},
   "source": [
    "# Tries(Prefix Trees)\n",
    "- Structure\n",
    "    - Tree for strings where each node represents a character.\n",
    "    - Root = empty string, leaves = complete words.\n",
    "      \n",
    "Used for autocomplete, spell checkers, IP routing."
   ]
  },
  {
   "cell_type": "code",
   "execution_count": 5,
   "id": "cb0363ad-7f1b-466c-abe7-af98c0c3d70d",
   "metadata": {},
   "outputs": [],
   "source": [
    "class TrieNode:\n",
    "    def __init__(self, children = {}):\n",
    "        self.children = children  # Dict: char → TrieNode\n",
    "        self.is_end = False  # Marks end of a word\n",
    "\n",
    "class Trie:\n",
    "    def __init__(self):\n",
    "        self.root = TrieNode()\n",
    "    \n",
    "    def insert(self, word):\n",
    "        node = self.root\n",
    "        for char in word:\n",
    "            if char not in node.children:\n",
    "                node.children[char] = TrieNode()\n",
    "            node = node.children[char]\n",
    "        node.is_end = True\n",
    "    \n",
    "    def search(self, word):\n",
    "        node = self.root\n",
    "        for char in word:\n",
    "            if char not in node.children:\n",
    "                return False\n",
    "            node = node.children[char]\n",
    "        return node.is_end\n",
    "\n",
    "# Example\n",
    "trie = Trie()\n",
    "trie.insert(\"Auto\")\n",
    "trie.insert(\"Automovil\")"
   ]
  },
  {
   "cell_type": "code",
   "execution_count": 6,
   "id": "fdf406fb-84c9-4af2-a94b-688e09cedf9c",
   "metadata": {},
   "outputs": [
    {
     "name": "stdout",
     "output_type": "stream",
     "text": [
      "True\n",
      "False\n"
     ]
    }
   ],
   "source": [
    "print(trie.search(\"Auto\"))  # True\n",
    "print(trie.search(\"A\"))    # False"
   ]
  },
  {
   "cell_type": "code",
   "execution_count": 7,
   "id": "25e28ebd-26c2-44eb-9f72-218220e5cc3e",
   "metadata": {},
   "outputs": [
    {
     "data": {
      "text/plain": [
       "False"
      ]
     },
     "execution_count": 7,
     "metadata": {},
     "output_type": "execute_result"
    }
   ],
   "source": [
    "trie.root.is_end"
   ]
  },
  {
   "cell_type": "code",
   "execution_count": null,
   "id": "27308dde-36b9-4a12-ab4c-b4e23b8fd1d5",
   "metadata": {},
   "outputs": [],
   "source": []
  },
  {
   "cell_type": "markdown",
   "id": "34d1bc77-d943-4b53-a217-98982b1fef6b",
   "metadata": {},
   "source": [
    "# Graphs\n",
    "- Structure\n",
    "    - Nodes (vertices) & Edges (connections).\n",
    "- Types\n",
    "    - Directed: Edges have direction (e.g., Twitter followers).\n",
    "    - Undirected: No direction (e.g., Facebook friends).\n",
    "    - Weighted: Edges have values (e.g., road distances)."
   ]
  },
  {
   "cell_type": "code",
   "execution_count": 8,
   "id": "eaacc72e-25a3-4212-8424-cfde12354a19",
   "metadata": {},
   "outputs": [
    {
     "name": "stdout",
     "output_type": "stream",
     "text": [
      "defaultdict(<class 'list'>, {0: [1, 2], 1: [2]})\n"
     ]
    }
   ],
   "source": [
    "from collections import defaultdict\n",
    "\n",
    "class Graph:\n",
    "    def __init__(self):\n",
    "        self.graph = defaultdict(list)  # {node: [neighbors]}\n",
    "    \n",
    "    def add_edge(self, u, v):\n",
    "        self.graph[u].append(v)\n",
    "        # For undirected: self.graph[v].append(u)\n",
    "\n",
    "# Example\n",
    "g = Graph()\n",
    "g.add_edge(0, 1)\n",
    "g.add_edge(0, 2)\n",
    "g.add_edge(1, 2)\n",
    "print(g.graph)  # {0: [1, 2], 1: [2]}"
   ]
  },
  {
   "cell_type": "markdown",
   "id": "40fce128-92cf-43bc-a901-f4553ae3182a",
   "metadata": {},
   "source": [
    "## Problemas:\n",
    "##### 1.- Validar Binary Search Tree: \n",
    "- PROBLEM: Given a binary tree, determine if it’s a valid BST (left < root < right for every node).\n",
    "##### 2.- Word Search II (Prefix-Based Search): \n",
    "- PROBLEM: Given a grid of characters and a list of words, return all words present in the grid (words can be constructed from adjacent letters).\n",
    "##### 3.- Graphs: Course Schedule (Cycle Detection): \n",
    "- PROBLEM: Given n courses and prerequisites [[a, b] → b must be taken before a], determine if all courses can be finished (no cycles).\n",
    "##### 4.- Dijkstra’s Shortest Path (Weighted Graphs):\n",
    "- PROBLEM: Find the shortest path from a start node to all other nodes in a weighted graph (non-negative weights).\n",
    "##### 5.- Como remover el n-ésimo nodo desde el final?"
   ]
  },
  {
   "cell_type": "code",
   "execution_count": 9,
   "id": "4e395ca0-1437-4af3-9769-cce1e161a448",
   "metadata": {},
   "outputs": [],
   "source": [
    "########################################################\n",
    "########## Problema 1: Validar BST #####################\n",
    "########################################################\n",
    "\n",
    "class TreeNode:\n",
    "    def __init__(self, val=0, left=None, right=None):\n",
    "        self.val = val\n",
    "        self.left = left\n",
    "        self.right = right\n",
    "\n",
    "def is_valid_bst(root):\n",
    "    prev = None\n",
    "    def inorder(node):\n",
    "        nonlocal prev\n",
    "        if not node:\n",
    "            return True\n",
    "        if not inorder(node.left):\n",
    "            return False\n",
    "        if prev and node.val <= prev.val:\n",
    "            return False\n",
    "        prev = node\n",
    "        return inorder(node.right)\n",
    "    return inorder(root)"
   ]
  },
  {
   "cell_type": "code",
   "execution_count": 10,
   "id": "47d45222-69ca-4a49-a2df-8822d425a733",
   "metadata": {},
   "outputs": [
    {
     "name": "stdout",
     "output_type": "stream",
     "text": [
      "True\n"
     ]
    }
   ],
   "source": [
    "# Example\n",
    "root = TreeNode(2, TreeNode(1), TreeNode(3))\n",
    "print(is_valid_bst(root))  # True"
   ]
  },
  {
   "cell_type": "code",
   "execution_count": 11,
   "id": "832cf423-825e-4583-a7b5-bd29fad20d16",
   "metadata": {},
   "outputs": [],
   "source": [
    "########################################################\n",
    "########## Problema 2: Word Search II ##################\n",
    "########################################################\n",
    "\n",
    "class TrieNode:\n",
    "    def __init__(self):\n",
    "        self.children = {}\n",
    "        self.word = None  # Stores the complete word at leaf nodes\n",
    "\n",
    "def find_words(board, words):\n",
    "    root = TrieNode()\n",
    "    # Build the trie\n",
    "    for word in words:\n",
    "        node = root\n",
    "        for char in word:\n",
    "            if char not in node.children:\n",
    "                node.children[char] = TrieNode()\n",
    "            node = node.children[char]\n",
    "        node.word = word  # Mark leaf node with the word\n",
    "\n",
    "    result = []\n",
    "    rows, cols = len(board), len(board[0])\n",
    "\n",
    "    def dfs(r, c, node):\n",
    "        char = board[r][c]\n",
    "        if char not in node.children:\n",
    "            return\n",
    "        node = node.children[char]\n",
    "        if node.word:\n",
    "            result.append(node.word)\n",
    "            node.word = None  # Avoid duplicates\n",
    "        board[r][c] = '#'  # Mark as visited\n",
    "        for dr, dc in [(-1, 0), (1, 0), (0, -1), (0, 1)]:\n",
    "            nr, nc = r + dr, c + dc\n",
    "            if 0 <= nr < rows and 0 <= nc < cols:\n",
    "                dfs(nr, nc, node)\n",
    "        board[r][c] = char  # Backtrack\n",
    "\n",
    "    for r in range(rows):\n",
    "        for c in range(cols):\n",
    "            dfs(r, c, root)\n",
    "    return result"
   ]
  },
  {
   "cell_type": "code",
   "execution_count": 12,
   "id": "8084428f-6670-4cc5-8af5-eec1e5e65672",
   "metadata": {},
   "outputs": [
    {
     "data": {
      "text/plain": [
       "[['o', 's', 'y', 'r'],\n",
       " ['e', 's', 'a', 'r'],\n",
       " ['i', 'i', 'k', 'a'],\n",
       " ['i', 'l', 'l', 'm']]"
      ]
     },
     "execution_count": 12,
     "metadata": {},
     "output_type": "execute_result"
    }
   ],
   "source": [
    "# Example\n",
    "board = [[\"o\",\"s\",\"y\",\"r\"], [\"e\",\"s\",\"a\",\"r\"], [\"i\",\"i\",\"k\",\"a\"], [\"i\",\"l\",\"l\",\"m\"]]\n",
    "words = [\"marry\",\"pea\",\"eat\",\"kiss\",\"kill\"]\n",
    "board"
   ]
  },
  {
   "cell_type": "code",
   "execution_count": 13,
   "id": "1e018924-dc8a-46d6-abff-d8bc6d4492a8",
   "metadata": {},
   "outputs": [
    {
     "name": "stdout",
     "output_type": "stream",
     "text": [
      "['kiss', 'kill', 'marry']\n"
     ]
    }
   ],
   "source": [
    "print(find_words(board, words))  "
   ]
  },
  {
   "cell_type": "code",
   "execution_count": 14,
   "id": "8d065a35-b5a3-444b-a461-d11b061a20e9",
   "metadata": {},
   "outputs": [],
   "source": [
    "########################################################\n",
    "########## Problema 3: Course Schedule #################\n",
    "########################################################\n",
    "\n",
    "from collections import deque\n",
    "\n",
    "def can_finish(num_courses, prerequisites):\n",
    "    graph = [[] for _ in range(num_courses)]\n",
    "    in_degree = [0] * num_courses\n",
    "    # Build graph and in-degree count\n",
    "    for a, b in prerequisites:\n",
    "        graph[b].append(a)\n",
    "        in_degree[a] += 1\n",
    "    # Initialize queue with nodes having in_degree = 0\n",
    "    queue = deque([i for i in range(num_courses) if in_degree[i] == 0])\n",
    "    count = 0\n",
    "    while queue:\n",
    "        node = queue.popleft()\n",
    "        count += 1\n",
    "        for neighbor in graph[node]:\n",
    "            in_degree[neighbor] -= 1\n",
    "            if in_degree[neighbor] == 0:\n",
    "                queue.append(neighbor)\n",
    "    return count == num_courses"
   ]
  },
  {
   "cell_type": "code",
   "execution_count": 15,
   "id": "1b2cc312-18d6-4cce-83d1-6a8a4312f63d",
   "metadata": {},
   "outputs": [
    {
     "name": "stdout",
     "output_type": "stream",
     "text": [
      "True\n",
      "False\n"
     ]
    }
   ],
   "source": [
    "# Example\n",
    "print(can_finish(2, [[1, 0]]))  # True (0 → 1 is valid)\n",
    "print(can_finish(2, [[1, 0], [0, 1]]))  # False (cycle: 0 ↔ 1)"
   ]
  },
  {
   "cell_type": "code",
   "execution_count": 16,
   "id": "b5fd16f3-f445-4b86-b9c7-9dfff50031f1",
   "metadata": {},
   "outputs": [],
   "source": [
    "########################################################\n",
    "########## Problema 4: Find Shortest Path ##############\n",
    "########################################################\n",
    "\n",
    "import heapq\n",
    "\n",
    "def dijkstra(graph, start):\n",
    "    n = len(graph)\n",
    "    dist = [float('inf')] * n\n",
    "    dist[start] = 0\n",
    "    heap = [(0, start)]\n",
    "    while heap:\n",
    "        current_dist, u = heapq.heappop(heap)\n",
    "        if current_dist > dist[u]:\n",
    "            continue  # Skip if a shorter path already exists\n",
    "        for v, weight in graph[u]:\n",
    "            if dist[v] > dist[u] + weight:\n",
    "                dist[v] = dist[u] + weight\n",
    "                heapq.heappush(heap, (dist[v], v))\n",
    "    return dist"
   ]
  },
  {
   "cell_type": "code",
   "execution_count": 17,
   "id": "1e440482-b253-4700-81f2-ff3ab5ba834e",
   "metadata": {},
   "outputs": [
    {
     "name": "stdout",
     "output_type": "stream",
     "text": [
      "[0, 2, 1, 4]\n"
     ]
    }
   ],
   "source": [
    "# Example (graph: adjacency list with weights)\n",
    "graph = [\n",
    "    [(1, 4), (2, 1)],  # 0 → (1, weight=4), (2, weight=1)\n",
    "    [(3, 2)],           # 1 → (3, weight=2)\n",
    "    [(1, 1), (3, 5)],   # 2 → (1, weight=1), (3, weight=5)\n",
    "    []]                 # 3 → no edges\n",
    "print(dijkstra(graph, 0))  # Output: [0, 2, 1, 4]"
   ]
  },
  {
   "cell_type": "code",
   "execution_count": null,
   "id": "bd9ddccc-cc1a-4739-894b-83f57bdb2d39",
   "metadata": {},
   "outputs": [],
   "source": []
  },
  {
   "cell_type": "code",
   "execution_count": null,
   "id": "e8ac9df3-1612-44b1-82bc-0a6943534240",
   "metadata": {},
   "outputs": [],
   "source": []
  }
 ],
 "metadata": {
  "kernelspec": {
   "display_name": "Python 3 (ipykernel)",
   "language": "python",
   "name": "python3"
  },
  "language_info": {
   "codemirror_mode": {
    "name": "ipython",
    "version": 3
   },
   "file_extension": ".py",
   "mimetype": "text/x-python",
   "name": "python",
   "nbconvert_exporter": "python",
   "pygments_lexer": "ipython3",
   "version": "3.9.15"
  }
 },
 "nbformat": 4,
 "nbformat_minor": 5
}
