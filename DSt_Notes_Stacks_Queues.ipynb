{
 "cells": [
  {
   "cell_type": "markdown",
   "id": "b96f6e4f-2882-4b04-9327-fb5d6e7a4b0a",
   "metadata": {},
   "source": [
    "# Stacks (LIFO-Principle)\n",
    "- Core Concepts\n",
    "    - Last-In-First-Out (LIFO): The last element added is the first one removed.\n",
    "    - Operations:\n",
    "        - push(item): Add an item to the top.\n",
    "        - pop(): Remove and return the top item.\n",
    "        - peek(): View the top item without removing it.\n",
    "        - is_empty(): Check if the stack is empty.\n",
    "    - Time Complexity: All operations are O(1) (constant time).\n",
    "\n",
    "- Use Cases\n",
    "    - Function call management (call stack).\n",
    "    - Undo/Redo operations (e.g., Ctrl+Z).\n",
    "    - Balanced parentheses validation.\n",
    "    - Depth-First Search (DFS).\n",
    "\n",
    "### Python Implementation (Using Lists)"
   ]
  },
  {
   "cell_type": "code",
   "execution_count": 1,
   "id": "60c68609-14a9-482d-b48a-336012ee8487",
   "metadata": {},
   "outputs": [],
   "source": [
    "class Stack:\n",
    "    def __init__(self):\n",
    "        self.items = []\n",
    "\n",
    "    def push(self, item):\n",
    "        self.items.append(item)  # O(1)\n",
    "\n",
    "    def pop(self):\n",
    "        if not self.is_empty():\n",
    "            return self.items.pop()  # O(1)\n",
    "        raise IndexError(\"Pop from empty stack\")\n",
    "\n",
    "    def peek(self):\n",
    "        if not self.is_empty():\n",
    "            return self.items[-1]  # O(1)\n",
    "        raise IndexError(\"Peek from empty stack\")\n",
    "\n",
    "    def is_empty(self):\n",
    "        return len(self.items) == 0  # O(1)"
   ]
  },
  {
   "cell_type": "code",
   "execution_count": 2,
   "id": "42b141a6-8cef-4bbb-9c95-eebf07db969e",
   "metadata": {},
   "outputs": [
    {
     "name": "stdout",
     "output_type": "stream",
     "text": [
      "20\n",
      "10\n"
     ]
    }
   ],
   "source": [
    "# Example\n",
    "stack = Stack()\n",
    "stack.push(10)\n",
    "stack.push(20)\n",
    "print(stack.pop())  # Output: 20\n",
    "print(stack.peek()) # Output: 10"
   ]
  },
  {
   "cell_type": "markdown",
   "id": "7531c1ab-4423-437c-8e5a-bca7d721c62a",
   "metadata": {},
   "source": [
    " - We can also use some Python's built-in structures to illustrate the Stack Structure"
   ]
  },
  {
   "cell_type": "code",
   "execution_count": 3,
   "id": "195dfd8c-e47e-43b7-baf7-d62ec762aac9",
   "metadata": {},
   "outputs": [
    {
     "name": "stdout",
     "output_type": "stream",
     "text": [
      "Initial stack:\n",
      "deque(['a', 'b', 'c'])\n",
      "\n",
      "Elements popped from stack:c, Remaining elements: deque(['a', 'b']).\n",
      "\n",
      "Elements popped from stack:b, Remaining elements: deque(['a']).\n",
      "\n",
      "Elements popped from stack:a, Remaining elements: deque([]).\n",
      "\n",
      "Stack after elements are popped:\n",
      "deque([])\n"
     ]
    }
   ],
   "source": [
    "from collections import deque\n",
    "# Python program to\n",
    "# demonstrate stack implementation\n",
    "# using collections.deque\n",
    "\n",
    "from collections import deque\n",
    "\n",
    "stack = deque()\n",
    "\n",
    "# append() function to push\n",
    "# element in the stack\n",
    "stack.append('a')\n",
    "stack.append('b')\n",
    "stack.append('c')\n",
    "\n",
    "print('Initial stack:')\n",
    "print(stack)\n",
    "\n",
    "# pop() function to pop\n",
    "# element from stack in\n",
    "# LIFO order\n",
    "print(f'\\nElements popped from stack:{stack.pop()}, Remaining elements: {stack}.')\n",
    "print(f'\\nElements popped from stack:{stack.pop()}, Remaining elements: {stack}.')\n",
    "print(f'\\nElements popped from stack:{stack.pop()}, Remaining elements: {stack}.')\n",
    "\n",
    "print('\\nStack after elements are popped:')\n",
    "print(stack)\n",
    "\n",
    "# uncommenting print(stack.pop())\n",
    "# will cause an IndexError\n",
    "# as the stack is now empty"
   ]
  },
  {
   "cell_type": "markdown",
   "id": "42aa4454-f31a-425e-b964-f6ab43a3cd61",
   "metadata": {},
   "source": [
    "--------------\n",
    "--------------\n",
    "# Queues (FIFO Principle)\n",
    "- Core Concepts\n",
    "    - First-In-First-Out (FIFO): The first element added is the first one removed.\n",
    "    - Operations:\n",
    "        - enqueue(item): Add an item to the rear.\n",
    "        - dequeue(): Remove and return the front item.\n",
    "        - front(): View the front item without removing it.\n",
    "        - is_empty(): Check if the queue is empty.\n",
    "    - Time Complexity: O(1) for all operations (if implemented properly).\n",
    "        - Python’s list.pop(0) is O(n) (inefficient for queues).\n",
    "    - Use Cases:\n",
    "        - Breadth-First Search (BFS).\n",
    "        - Task scheduling (e.g., printer queue).\n",
    "        - Handling requests in web servers."
   ]
  },
  {
   "cell_type": "code",
   "execution_count": 4,
   "id": "38653a8c-e822-445c-80a6-fbdd3e24f80b",
   "metadata": {},
   "outputs": [],
   "source": [
    "from collections import deque\n",
    "\n",
    "class Queue:\n",
    "    def __init__(self):\n",
    "        self.items = deque()  # Faster than lists for O(1) pops\n",
    "\n",
    "    def enqueue(self, item):\n",
    "        self.items.append(item)  # O(1)\n",
    "\n",
    "    def dequeue(self):\n",
    "        if not self.is_empty():\n",
    "            return self.items.popleft()  # O(1)\n",
    "        raise IndexError(\"Dequeue from empty queue\")\n",
    "\n",
    "    def front(self):\n",
    "        if not self.is_empty():\n",
    "            return self.items[0]  # O(1)\n",
    "        raise IndexError(\"Front from empty queue\")\n",
    "\n",
    "    def is_empty(self):\n",
    "        return len(self.items) == 0  # O(1)"
   ]
  },
  {
   "cell_type": "code",
   "execution_count": 5,
   "id": "534975ee-0b97-4bdb-af4b-7f530ce9f418",
   "metadata": {},
   "outputs": [
    {
     "name": "stdout",
     "output_type": "stream",
     "text": [
      "A\n",
      "B\n"
     ]
    }
   ],
   "source": [
    "# Example\n",
    "queue = Queue()\n",
    "queue.enqueue(\"A\")\n",
    "queue.enqueue(\"B\")\n",
    "print(queue.dequeue())  # Output: \"A\"\n",
    "print(queue.front())    # Output: \"B\""
   ]
  },
  {
   "cell_type": "markdown",
   "id": "eafa1159-00f5-4e15-8219-4dca552704ba",
   "metadata": {},
   "source": [
    "# Problems\n",
    "##### Problem 1: Balanced Parentheses (Stack)\n",
    "- Goal: Check if a string of brackets of the form '(()[]{})' is balanced."
   ]
  },
  {
   "cell_type": "code",
   "execution_count": 6,
   "id": "9043985f-4906-4201-9207-94f71253220e",
   "metadata": {},
   "outputs": [],
   "source": [
    "#Solution: Use a stack to match closing brackets with the most recent opening one.\n",
    "def is_balanced(s):\n",
    "    stack = []\n",
    "    mapping = {\")\": \"(\", \"]\": \"[\", \"}\": \"{\"}\n",
    "    for char in s:\n",
    "        if char in mapping.values():  # Push opening brackets\n",
    "            stack.append(char)\n",
    "        elif char in mapping:\n",
    "            if not stack or stack.pop() != mapping[char]:\n",
    "                return False\n",
    "    return not stack  # Stack must be empty at the end"
   ]
  },
  {
   "cell_type": "code",
   "execution_count": 7,
   "id": "cd3594e9-df5a-496f-bcb6-528488dd73f8",
   "metadata": {},
   "outputs": [
    {
     "name": "stdout",
     "output_type": "stream",
     "text": [
      "True\n",
      "False\n"
     ]
    }
   ],
   "source": [
    "print(is_balanced(\"({[]})\"))  # True\n",
    "print(is_balanced(\"({[(]}))\"))  # False"
   ]
  },
  {
   "cell_type": "markdown",
   "id": "9503dbe0-e8a6-41d6-9e81-65eaea41a516",
   "metadata": {},
   "source": [
    "##### Problem 2: Implement a Queue using Stacks\n",
    "- Goal: Simulate FIFO behavior using two stacks."
   ]
  },
  {
   "cell_type": "code",
   "execution_count": 8,
   "id": "4b4dac5b-7745-46ae-8fa8-69b4e9605230",
   "metadata": {},
   "outputs": [],
   "source": [
    "# Solution: Amortized O(1) time: Transfer elements from stack1 to stack2 only when stack2 is empty.\n",
    "class QueueUsingStacks:\n",
    "    def __init__(self):\n",
    "        self.stack1 = []  # For enqueue\n",
    "        self.stack2 = []  # For dequeue\n",
    "\n",
    "    def enqueue(self, item):\n",
    "        self.stack1.append(item)  # O(1)\n",
    "\n",
    "    def dequeue(self):\n",
    "        if not self.stack2:\n",
    "            while self.stack1:\n",
    "                self.stack2.append(self.stack1.pop())  # Reverse stack1 into stack2\n",
    "        if not self.stack2:\n",
    "            raise IndexError(\"Dequeue from empty queue\")\n",
    "        return self.stack2.pop()  # O(1) amortized"
   ]
  },
  {
   "cell_type": "code",
   "execution_count": 9,
   "id": "95842403-60b8-4489-9c46-b3e8b3b5b318",
   "metadata": {},
   "outputs": [
    {
     "name": "stdout",
     "output_type": "stream",
     "text": [
      "1\n"
     ]
    }
   ],
   "source": [
    "# Example\n",
    "q = QueueUsingStacks()\n",
    "q.enqueue(1)\n",
    "q.enqueue(2)\n",
    "print(q.dequeue())  # Output: 1"
   ]
  },
  {
   "cell_type": "markdown",
   "id": "8256ce51-1caf-41e5-acaa-dd7752532db3",
   "metadata": {},
   "source": [
    "##### Problem 3: Sliding Window Maximum (Queue)\n",
    "- Goal: Given an array and window size k, return the max in each sliding window."
   ]
  },
  {
   "cell_type": "code",
   "execution_count": 10,
   "id": "8fff4559-abc9-4bc2-a789-ea499deab0f7",
   "metadata": {},
   "outputs": [],
   "source": [
    "#Solution: Use a monotonic queue to track potential maxima in O(n) time.\n",
    "from collections import deque\n",
    "\n",
    "def max_sliding_window(nums, k):\n",
    "    q = deque()  # Stores indices (not values)\n",
    "    result = []\n",
    "    for i, num in enumerate(nums):\n",
    "        while q and nums[q[-1]] <= num:  # Remove smaller elements\n",
    "            q.pop()\n",
    "        q.append(i)\n",
    "        if q[0] == i - k:  # Remove out-of-window indices\n",
    "            q.popleft()\n",
    "        if i >= k - 1:\n",
    "            result.append(nums[q[0]])\n",
    "    return result"
   ]
  },
  {
   "cell_type": "code",
   "execution_count": 11,
   "id": "d304d1f8-db36-4603-b2f2-218a8ab849b5",
   "metadata": {},
   "outputs": [
    {
     "name": "stdout",
     "output_type": "stream",
     "text": [
      "[3, 3, 5, 5, 6]\n"
     ]
    }
   ],
   "source": [
    "print(max_sliding_window([1, 3, -1, -3, 5, 3, 6], 3))  # Output: [3, 3, 5, 5, 6]"
   ]
  },
  {
   "cell_type": "markdown",
   "id": "d0014463-8be8-4caa-9d72-ffeda46e37ad",
   "metadata": {},
   "source": [
    "## Final Summary and comparisons"
   ]
  },
  {
   "cell_type": "markdown",
   "id": "ecf8acf8-716e-4929-925c-c361fca131fd",
   "metadata": {},
   "source": [
    "<img src= stacks_queues1.png>\n",
    "<img src= stacks_queues2.png>"
   ]
  },
  {
   "cell_type": "code",
   "execution_count": null,
   "id": "8d174b46-daad-4b18-9ac3-c419817a427e",
   "metadata": {},
   "outputs": [],
   "source": []
  }
 ],
 "metadata": {
  "kernelspec": {
   "display_name": "Python 3 (ipykernel)",
   "language": "python",
   "name": "python3"
  },
  "language_info": {
   "codemirror_mode": {
    "name": "ipython",
    "version": 3
   },
   "file_extension": ".py",
   "mimetype": "text/x-python",
   "name": "python",
   "nbconvert_exporter": "python",
   "pygments_lexer": "ipython3",
   "version": "3.12.7"
  }
 },
 "nbformat": 4,
 "nbformat_minor": 5
}
